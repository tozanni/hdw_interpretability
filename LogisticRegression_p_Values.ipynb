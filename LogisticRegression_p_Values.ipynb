{
  "cells": [
    {
      "cell_type": "markdown",
      "metadata": {
        "id": "view-in-github",
        "colab_type": "text"
      },
      "source": [
        "<a href=\"https://colab.research.google.com/github/tozanni/hdw_interpretability/blob/main/LogisticRegression_p_Values.ipynb\" target=\"_parent\"><img src=\"https://colab.research.google.com/assets/colab-badge.svg\" alt=\"Open In Colab\"/></a>"
      ]
    },
    {
      "cell_type": "markdown",
      "source": [
        "Data prep thanks to:\n",
        "https://www.kaggle.com/code/renadope/cervical-cancer-classification-99-4-recall\n"
      ],
      "metadata": {
        "id": "1CS9lCfK7R3q"
      }
    },
    {
      "cell_type": "code",
      "source": [
        "%pip install statsmodels\n",
        "#%pip install mlxtend"
      ],
      "metadata": {
        "tags": [],
        "cell_id": "32206ddb84a04303a33c22833739f36b",
        "allow_embed": "code_output",
        "source_hash": "23dc76b8",
        "execution_start": 1672948325052,
        "execution_millis": 6397,
        "deepnote_to_be_reexecuted": false,
        "deepnote_cell_type": "code",
        "id": "bp32Dte8tnGD",
        "outputId": "4c8608d5-99e6-49b2-d2b5-e58766ffc584",
        "colab": {
          "base_uri": "https://localhost:8080/"
        }
      },
      "outputs": [
        {
          "output_type": "stream",
          "name": "stdout",
          "text": [
            "Requirement already satisfied: statsmodels in /usr/local/lib/python3.10/dist-packages (0.14.0)\n",
            "Requirement already satisfied: numpy>=1.18 in /usr/local/lib/python3.10/dist-packages (from statsmodels) (1.23.5)\n",
            "Requirement already satisfied: scipy!=1.9.2,>=1.4 in /usr/local/lib/python3.10/dist-packages (from statsmodels) (1.10.1)\n",
            "Requirement already satisfied: pandas>=1.0 in /usr/local/lib/python3.10/dist-packages (from statsmodels) (1.5.3)\n",
            "Requirement already satisfied: patsy>=0.5.2 in /usr/local/lib/python3.10/dist-packages (from statsmodels) (0.5.3)\n",
            "Requirement already satisfied: packaging>=21.3 in /usr/local/lib/python3.10/dist-packages (from statsmodels) (23.1)\n",
            "Requirement already satisfied: python-dateutil>=2.8.1 in /usr/local/lib/python3.10/dist-packages (from pandas>=1.0->statsmodels) (2.8.2)\n",
            "Requirement already satisfied: pytz>=2020.1 in /usr/local/lib/python3.10/dist-packages (from pandas>=1.0->statsmodels) (2023.3)\n",
            "Requirement already satisfied: six in /usr/local/lib/python3.10/dist-packages (from patsy>=0.5.2->statsmodels) (1.16.0)\n"
          ]
        }
      ],
      "execution_count": 15
    },
    {
      "cell_type": "code",
      "source": [
        "import pandas as pd\n",
        "import numpy as np\n",
        "risk_factor_df = pd.read_csv(\"https://archive.ics.uci.edu/ml/machine-learning-databases/00383/risk_factors_cervical_cancer.csv\")\n",
        "#risk_factor_df.head()\n",
        "\n"
      ],
      "metadata": {
        "tags": [],
        "cell_id": "8c2e85e92fd9459ba340be5e0f7e8f8b",
        "allow_embed": "code_output",
        "source_hash": "b7688c1a",
        "execution_start": 1672948331483,
        "execution_millis": 2,
        "deepnote_to_be_reexecuted": false,
        "deepnote_cell_type": "code",
        "id": "-enmwM6NtnGG"
      },
      "outputs": [],
      "execution_count": 16
    },
    {
      "cell_type": "code",
      "source": [
        "from sklearn.impute import SimpleImputer\n",
        "\n",
        "#these columns are not of type object, but are of type numeric\n",
        "cols_to_convert = ['Number of sexual partners', 'First sexual intercourse', 'Num of pregnancies', 'Smokes',\n",
        "                   'Smokes (years)', 'Smokes (packs/year)', 'Hormonal Contraceptives',\n",
        "                   'Hormonal Contraceptives (years)', 'IUD', 'IUD (years)', 'STDs', 'STDs (number)',\n",
        "                   'STDs:condylomatosis', 'STDs:cervical condylomatosis', 'STDs:vaginal condylomatosis',\n",
        "                   'STDs:vulvo-perineal condylomatosis', 'STDs:syphilis', 'STDs:pelvic inflammatory disease',\n",
        "                   'STDs:genital herpes', 'STDs:molluscum contagiosum', 'STDs:AIDS', 'STDs:HIV', 'STDs:Hepatitis B',\n",
        "                   'STDs:HPV', 'STDs: Time since first diagnosis',\n",
        "                   'STDs: Time since last diagnosis']\n",
        "# for i in range(0,len(cols_to_convert)):\n",
        "#     print(\"{}={}\".format(i,cols_to_convert[i]))\n",
        "risk_factor_df[cols_to_convert] = risk_factor_df[cols_to_convert].apply(pd.to_numeric, errors=\"coerce\")\n",
        "risk_factor_df[cols_to_convert].fillna(np.nan, inplace=True)\n",
        "imp = SimpleImputer(strategy=\"median\")\n",
        "X = imp.fit_transform(risk_factor_df)\n",
        "risk_factor_df = pd.DataFrame(X, columns=list(risk_factor_df.columns))"
      ],
      "metadata": {
        "id": "f5vk9X76vUxV",
        "outputId": "3dfda612-340e-4ec2-ed95-3b38b66eb716",
        "colab": {
          "base_uri": "https://localhost:8080/"
        }
      },
      "execution_count": 17,
      "outputs": [
        {
          "output_type": "stream",
          "name": "stderr",
          "text": [
            "<ipython-input-17-b33c7bd60fed>:15: SettingWithCopyWarning: \n",
            "A value is trying to be set on a copy of a slice from a DataFrame\n",
            "\n",
            "See the caveats in the documentation: https://pandas.pydata.org/pandas-docs/stable/user_guide/indexing.html#returning-a-view-versus-a-copy\n",
            "  risk_factor_df[cols_to_convert].fillna(np.nan, inplace=True)\n"
          ]
        }
      ]
    },
    {
      "cell_type": "code",
      "source": [
        "risk_factor_df[\"Age\"] = risk_factor_df[\"Age\"].astype(int)"
      ],
      "metadata": {
        "id": "60ETtPfywI20"
      },
      "execution_count": 18,
      "outputs": []
    },
    {
      "cell_type": "code",
      "source": [
        "std_cols = {'STDs:condylomatosis','STDs:cervical condylomatosis','STDs:vaginal condylomatosis',\n",
        "            'STDs:vulvo-perineal condylomatosis','STDs:syphilis','STDs:pelvic inflammatory disease',\n",
        "            'STDs:genital herpes','STDs:molluscum contagiosum','STDs:AIDS',\n",
        "            'STDs:HIV','STDs:Hepatitis B','STDs:HPV'}\n",
        "\n",
        "#risk_factor_df[\"total_std\"] = risk_factor_df[list(std_cols)].sum(axis=1)\n",
        "#std_agg = risk_factor_df.groupby(\"age_cat\", as_index=False)[list(std_cols)].sum()"
      ],
      "metadata": {
        "id": "nvQmycuBwUmR"
      },
      "execution_count": 19,
      "outputs": []
    },
    {
      "cell_type": "code",
      "source": [
        "test_cols = [\"Hinselmann\", \"Schiller\", \"Citology\", \"Biopsy\"]\n",
        "risk_factor_df[\"total_tests\"] = risk_factor_df[test_cols].sum(axis = 1)"
      ],
      "metadata": {
        "id": "CJ0K8I-MwXgQ"
      },
      "execution_count": 20,
      "outputs": []
    },
    {
      "cell_type": "code",
      "source": [
        "to_int_and_beyond = {\"total_tests\",\n",
        "                     #\"total_std\",\n",
        "                     \"Smokes\",\"Biopsy\",\"Dx:Cancer\",\"Num of pregnancies\",\"Number of sexual partners\",\"First sexual intercourse\",\n",
        "                     \"Hormonal Contraceptives\",\"IUD\",\"STDs\",\"STDs (number)\",\"STDs: Number of diagnosis\",\"Dx:CIN\",\"Dx:HPV\",\"Dx\",\"Hinselmann\",\n",
        "                     \"Schiller\",\"Biopsy\",\"Citology\"}\n",
        "\n",
        "to_int_and_beyond = to_int_and_beyond.union(std_cols)\n",
        "\n",
        "for col in to_int_and_beyond:\n",
        "    risk_factor_df[col] = risk_factor_df[col].astype(int)"
      ],
      "metadata": {
        "id": "9wRapdswwZsf"
      },
      "execution_count": 21,
      "outputs": []
    },
    {
      "cell_type": "code",
      "source": [
        "y = risk_factor_df[\"Dx:Cancer\"].copy()\n",
        "\n",
        "X = risk_factor_df[[\"Number of sexual partners\",\"Hormonal Contraceptives\",\"Smokes\",\"Num of pregnancies\",\"STDs (number)\",\"IUD\"]]\n",
        "#X = risk_factor_df.drop(risk_factor_df.iloc[:, 13:36],axis = 1)"
      ],
      "metadata": {
        "id": "QeLhYiYw01XD"
      },
      "execution_count": 22,
      "outputs": []
    },
    {
      "cell_type": "code",
      "source": [
        "from imblearn.over_sampling import ADASYN, SMOTE\n",
        "#adasyn = ADASYN(random_state=42)\n",
        "#X_adasyn, y_adasyn = adasyn.fit_resample(X,y)\n",
        "\n",
        "smote = SMOTE(random_state=42)\n",
        "X_smote, y_smote = smote.fit_resample(X,y)\n"
      ],
      "metadata": {
        "id": "8XpaDQFH537V"
      },
      "execution_count": 23,
      "outputs": []
    },
    {
      "cell_type": "code",
      "source": [
        "from sklearn.model_selection import train_test_split\n",
        "#X_train, X_test, y_train, y_test = train_test_split(X_adasyn, y_adasyn, test_size=0.2, random_state=42)\n",
        "#X_train, X_test, y_train, y_test = train_test_split(X, y, test_size=0.2, random_state=42)\n",
        "X_train, X_test, y_train, y_test = train_test_split(X_smote, y_smote, test_size=0.2, random_state=42)"
      ],
      "metadata": {
        "tags": [],
        "cell_id": "e347f4bec2f94310b26240d19f59fdf2",
        "allow_embed": "code_output",
        "source_hash": "760c53b7",
        "execution_start": 1672948331486,
        "execution_millis": 1510,
        "deepnote_to_be_reexecuted": false,
        "deepnote_cell_type": "code",
        "id": "JvjmREZStnGG"
      },
      "outputs": [],
      "execution_count": 24
    },
    {
      "cell_type": "code",
      "source": [
        "X.corr()"
      ],
      "metadata": {
        "id": "R_OInFgu525Q",
        "outputId": "bc8e8d62-5812-4d81-8aa9-d6d1a9d484d3",
        "colab": {
          "base_uri": "https://localhost:8080/",
          "height": 237
        }
      },
      "execution_count": 25,
      "outputs": [
        {
          "output_type": "execute_result",
          "data": {
            "text/plain": [
              "                           Number of sexual partners  Hormonal Contraceptives  \\\n",
              "Number of sexual partners                   1.000000                 0.004027   \n",
              "Hormonal Contraceptives                     0.004027                 1.000000   \n",
              "Smokes                                      0.236858                 0.004036   \n",
              "Num of pregnancies                          0.077439                 0.118938   \n",
              "STDs (number)                               0.041459                -0.053642   \n",
              "IUD                                         0.032460                 0.000188   \n",
              "\n",
              "                             Smokes  Num of pregnancies  STDs (number)  \\\n",
              "Number of sexual partners  0.236858            0.077439       0.041459   \n",
              "Hormonal Contraceptives    0.004036            0.118938      -0.053642   \n",
              "Smokes                     1.000000            0.081517       0.100117   \n",
              "Num of pregnancies         0.081517            1.000000       0.010603   \n",
              "STDs (number)              0.100117            0.010603       1.000000   \n",
              "IUD                       -0.055115            0.204501       0.060591   \n",
              "\n",
              "                                IUD  \n",
              "Number of sexual partners  0.032460  \n",
              "Hormonal Contraceptives    0.000188  \n",
              "Smokes                    -0.055115  \n",
              "Num of pregnancies         0.204501  \n",
              "STDs (number)              0.060591  \n",
              "IUD                        1.000000  "
            ],
            "text/html": [
              "\n",
              "  <div id=\"df-c3e966db-59bc-439e-bbc7-1c0b9b866c5c\" class=\"colab-df-container\">\n",
              "    <div>\n",
              "<style scoped>\n",
              "    .dataframe tbody tr th:only-of-type {\n",
              "        vertical-align: middle;\n",
              "    }\n",
              "\n",
              "    .dataframe tbody tr th {\n",
              "        vertical-align: top;\n",
              "    }\n",
              "\n",
              "    .dataframe thead th {\n",
              "        text-align: right;\n",
              "    }\n",
              "</style>\n",
              "<table border=\"1\" class=\"dataframe\">\n",
              "  <thead>\n",
              "    <tr style=\"text-align: right;\">\n",
              "      <th></th>\n",
              "      <th>Number of sexual partners</th>\n",
              "      <th>Hormonal Contraceptives</th>\n",
              "      <th>Smokes</th>\n",
              "      <th>Num of pregnancies</th>\n",
              "      <th>STDs (number)</th>\n",
              "      <th>IUD</th>\n",
              "    </tr>\n",
              "  </thead>\n",
              "  <tbody>\n",
              "    <tr>\n",
              "      <th>Number of sexual partners</th>\n",
              "      <td>1.000000</td>\n",
              "      <td>0.004027</td>\n",
              "      <td>0.236858</td>\n",
              "      <td>0.077439</td>\n",
              "      <td>0.041459</td>\n",
              "      <td>0.032460</td>\n",
              "    </tr>\n",
              "    <tr>\n",
              "      <th>Hormonal Contraceptives</th>\n",
              "      <td>0.004027</td>\n",
              "      <td>1.000000</td>\n",
              "      <td>0.004036</td>\n",
              "      <td>0.118938</td>\n",
              "      <td>-0.053642</td>\n",
              "      <td>0.000188</td>\n",
              "    </tr>\n",
              "    <tr>\n",
              "      <th>Smokes</th>\n",
              "      <td>0.236858</td>\n",
              "      <td>0.004036</td>\n",
              "      <td>1.000000</td>\n",
              "      <td>0.081517</td>\n",
              "      <td>0.100117</td>\n",
              "      <td>-0.055115</td>\n",
              "    </tr>\n",
              "    <tr>\n",
              "      <th>Num of pregnancies</th>\n",
              "      <td>0.077439</td>\n",
              "      <td>0.118938</td>\n",
              "      <td>0.081517</td>\n",
              "      <td>1.000000</td>\n",
              "      <td>0.010603</td>\n",
              "      <td>0.204501</td>\n",
              "    </tr>\n",
              "    <tr>\n",
              "      <th>STDs (number)</th>\n",
              "      <td>0.041459</td>\n",
              "      <td>-0.053642</td>\n",
              "      <td>0.100117</td>\n",
              "      <td>0.010603</td>\n",
              "      <td>1.000000</td>\n",
              "      <td>0.060591</td>\n",
              "    </tr>\n",
              "    <tr>\n",
              "      <th>IUD</th>\n",
              "      <td>0.032460</td>\n",
              "      <td>0.000188</td>\n",
              "      <td>-0.055115</td>\n",
              "      <td>0.204501</td>\n",
              "      <td>0.060591</td>\n",
              "      <td>1.000000</td>\n",
              "    </tr>\n",
              "  </tbody>\n",
              "</table>\n",
              "</div>\n",
              "    <div class=\"colab-df-buttons\">\n",
              "\n",
              "  <div class=\"colab-df-container\">\n",
              "    <button class=\"colab-df-convert\" onclick=\"convertToInteractive('df-c3e966db-59bc-439e-bbc7-1c0b9b866c5c')\"\n",
              "            title=\"Convert this dataframe to an interactive table.\"\n",
              "            style=\"display:none;\">\n",
              "\n",
              "  <svg xmlns=\"http://www.w3.org/2000/svg\" height=\"24px\" viewBox=\"0 -960 960 960\">\n",
              "    <path d=\"M120-120v-720h720v720H120Zm60-500h600v-160H180v160Zm220 220h160v-160H400v160Zm0 220h160v-160H400v160ZM180-400h160v-160H180v160Zm440 0h160v-160H620v160ZM180-180h160v-160H180v160Zm440 0h160v-160H620v160Z\"/>\n",
              "  </svg>\n",
              "    </button>\n",
              "\n",
              "  <style>\n",
              "    .colab-df-container {\n",
              "      display:flex;\n",
              "      gap: 12px;\n",
              "    }\n",
              "\n",
              "    .colab-df-convert {\n",
              "      background-color: #E8F0FE;\n",
              "      border: none;\n",
              "      border-radius: 50%;\n",
              "      cursor: pointer;\n",
              "      display: none;\n",
              "      fill: #1967D2;\n",
              "      height: 32px;\n",
              "      padding: 0 0 0 0;\n",
              "      width: 32px;\n",
              "    }\n",
              "\n",
              "    .colab-df-convert:hover {\n",
              "      background-color: #E2EBFA;\n",
              "      box-shadow: 0px 1px 2px rgba(60, 64, 67, 0.3), 0px 1px 3px 1px rgba(60, 64, 67, 0.15);\n",
              "      fill: #174EA6;\n",
              "    }\n",
              "\n",
              "    .colab-df-buttons div {\n",
              "      margin-bottom: 4px;\n",
              "    }\n",
              "\n",
              "    [theme=dark] .colab-df-convert {\n",
              "      background-color: #3B4455;\n",
              "      fill: #D2E3FC;\n",
              "    }\n",
              "\n",
              "    [theme=dark] .colab-df-convert:hover {\n",
              "      background-color: #434B5C;\n",
              "      box-shadow: 0px 1px 3px 1px rgba(0, 0, 0, 0.15);\n",
              "      filter: drop-shadow(0px 1px 2px rgba(0, 0, 0, 0.3));\n",
              "      fill: #FFFFFF;\n",
              "    }\n",
              "  </style>\n",
              "\n",
              "    <script>\n",
              "      const buttonEl =\n",
              "        document.querySelector('#df-c3e966db-59bc-439e-bbc7-1c0b9b866c5c button.colab-df-convert');\n",
              "      buttonEl.style.display =\n",
              "        google.colab.kernel.accessAllowed ? 'block' : 'none';\n",
              "\n",
              "      async function convertToInteractive(key) {\n",
              "        const element = document.querySelector('#df-c3e966db-59bc-439e-bbc7-1c0b9b866c5c');\n",
              "        const dataTable =\n",
              "          await google.colab.kernel.invokeFunction('convertToInteractive',\n",
              "                                                    [key], {});\n",
              "        if (!dataTable) return;\n",
              "\n",
              "        const docLinkHtml = 'Like what you see? Visit the ' +\n",
              "          '<a target=\"_blank\" href=https://colab.research.google.com/notebooks/data_table.ipynb>data table notebook</a>'\n",
              "          + ' to learn more about interactive tables.';\n",
              "        element.innerHTML = '';\n",
              "        dataTable['output_type'] = 'display_data';\n",
              "        await google.colab.output.renderOutput(dataTable, element);\n",
              "        const docLink = document.createElement('div');\n",
              "        docLink.innerHTML = docLinkHtml;\n",
              "        element.appendChild(docLink);\n",
              "      }\n",
              "    </script>\n",
              "  </div>\n",
              "\n",
              "\n",
              "<div id=\"df-4c2b8687-1d8d-4288-a5f6-6476242014f6\">\n",
              "  <button class=\"colab-df-quickchart\" onclick=\"quickchart('df-4c2b8687-1d8d-4288-a5f6-6476242014f6')\"\n",
              "            title=\"Suggest charts.\"\n",
              "            style=\"display:none;\">\n",
              "\n",
              "<svg xmlns=\"http://www.w3.org/2000/svg\" height=\"24px\"viewBox=\"0 0 24 24\"\n",
              "     width=\"24px\">\n",
              "    <g>\n",
              "        <path d=\"M19 3H5c-1.1 0-2 .9-2 2v14c0 1.1.9 2 2 2h14c1.1 0 2-.9 2-2V5c0-1.1-.9-2-2-2zM9 17H7v-7h2v7zm4 0h-2V7h2v10zm4 0h-2v-4h2v4z\"/>\n",
              "    </g>\n",
              "</svg>\n",
              "  </button>\n",
              "\n",
              "<style>\n",
              "  .colab-df-quickchart {\n",
              "    background-color: #E8F0FE;\n",
              "    border: none;\n",
              "    border-radius: 50%;\n",
              "    cursor: pointer;\n",
              "    display: none;\n",
              "    fill: #1967D2;\n",
              "    height: 32px;\n",
              "    padding: 0 0 0 0;\n",
              "    width: 32px;\n",
              "  }\n",
              "\n",
              "  .colab-df-quickchart:hover {\n",
              "    background-color: #E2EBFA;\n",
              "    box-shadow: 0px 1px 2px rgba(60, 64, 67, 0.3), 0px 1px 3px 1px rgba(60, 64, 67, 0.15);\n",
              "    fill: #174EA6;\n",
              "  }\n",
              "\n",
              "  [theme=dark] .colab-df-quickchart {\n",
              "    background-color: #3B4455;\n",
              "    fill: #D2E3FC;\n",
              "  }\n",
              "\n",
              "  [theme=dark] .colab-df-quickchart:hover {\n",
              "    background-color: #434B5C;\n",
              "    box-shadow: 0px 1px 3px 1px rgba(0, 0, 0, 0.15);\n",
              "    filter: drop-shadow(0px 1px 2px rgba(0, 0, 0, 0.3));\n",
              "    fill: #FFFFFF;\n",
              "  }\n",
              "</style>\n",
              "\n",
              "  <script>\n",
              "    async function quickchart(key) {\n",
              "      const charts = await google.colab.kernel.invokeFunction(\n",
              "          'suggestCharts', [key], {});\n",
              "    }\n",
              "    (() => {\n",
              "      let quickchartButtonEl =\n",
              "        document.querySelector('#df-4c2b8687-1d8d-4288-a5f6-6476242014f6 button');\n",
              "      quickchartButtonEl.style.display =\n",
              "        google.colab.kernel.accessAllowed ? 'block' : 'none';\n",
              "    })();\n",
              "  </script>\n",
              "</div>\n",
              "    </div>\n",
              "  </div>\n"
            ]
          },
          "metadata": {},
          "execution_count": 25
        }
      ]
    },
    {
      "cell_type": "code",
      "source": [
        "import statsmodels.api as sm\n",
        "X_train = sm.add_constant(X_train)\n",
        "log_reg_model = sm.Logit(y_train, X_train)\n",
        "log_reg_model = log_reg_model.fit()\n",
        "print(log_reg_model.summary())"
      ],
      "metadata": {
        "tags": [],
        "cell_id": "ee152531fd5a40d68d1aef5eac9967f1",
        "allow_embed": "code_output",
        "source_hash": "4886aeca",
        "execution_start": 1672948333498,
        "execution_millis": 3,
        "deepnote_to_be_reexecuted": false,
        "deepnote_cell_type": "code",
        "id": "ST6e9yE0tnGI",
        "outputId": "59e123e3-e22d-4611-a3e6-daf0dc8031cb",
        "colab": {
          "base_uri": "https://localhost:8080/"
        }
      },
      "outputs": [
        {
          "output_type": "stream",
          "name": "stdout",
          "text": [
            "Optimization terminated successfully.\n",
            "         Current function value: 0.625872\n",
            "         Iterations 8\n",
            "                           Logit Regression Results                           \n",
            "==============================================================================\n",
            "Dep. Variable:              Dx:Cancer   No. Observations:                 1344\n",
            "Model:                          Logit   Df Residuals:                     1337\n",
            "Method:                           MLE   Df Model:                            6\n",
            "Date:                Thu, 24 Aug 2023   Pseudo R-squ.:                 0.09701\n",
            "Time:                        06:42:08   Log-Likelihood:                -841.17\n",
            "converged:                       True   LL-Null:                       -931.54\n",
            "Covariance Type:            nonrobust   LLR p-value:                 2.375e-36\n",
            "=============================================================================================\n",
            "                                coef    std err          z      P>|z|      [0.025      0.975]\n",
            "---------------------------------------------------------------------------------------------\n",
            "const                         0.1426      0.182      0.782      0.434      -0.215       0.500\n",
            "Number of sexual partners     0.0729      0.045      1.624      0.104      -0.015       0.161\n",
            "Hormonal Contraceptives      -0.5121      0.121     -4.231      0.000      -0.749      -0.275\n",
            "Smokes                       -4.0693      0.731     -5.563      0.000      -5.503      -2.636\n",
            "Num of pregnancies            0.0890      0.048      1.862      0.063      -0.005       0.183\n",
            "STDs (number)                -1.0385      0.225     -4.607      0.000      -1.480      -0.597\n",
            "IUD                           0.3407      0.195      1.745      0.081      -0.042       0.723\n",
            "=============================================================================================\n"
          ]
        }
      ],
      "execution_count": 26
    },
    {
      "cell_type": "code",
      "source": [
        "from sklearn.metrics import accuracy_score, classification_report\n",
        "\n",
        "X_test = sm.add_constant(X_test)\n",
        "y_pred = log_reg_model.predict(X_test) > 0.5\n",
        "\n",
        "print(\"Accuracy is \", accuracy_score(y_test, y_pred))\n",
        "print(classification_report(y_test, y_pred))"
      ],
      "metadata": {
        "colab": {
          "base_uri": "https://localhost:8080/"
        },
        "id": "ArJrVN2o7gNO",
        "outputId": "3469662b-8821-4ea0-b1de-18f6dc0c09c7"
      },
      "execution_count": 27,
      "outputs": [
        {
          "output_type": "stream",
          "name": "stdout",
          "text": [
            "Accuracy is  0.5833333333333334\n",
            "              precision    recall  f1-score   support\n",
            "\n",
            "           0       0.63      0.47      0.54       174\n",
            "           1       0.55      0.70      0.62       162\n",
            "\n",
            "    accuracy                           0.58       336\n",
            "   macro avg       0.59      0.59      0.58       336\n",
            "weighted avg       0.59      0.58      0.58       336\n",
            "\n"
          ]
        }
      ]
    }
  ],
  "nbformat": 4,
  "nbformat_minor": 0,
  "metadata": {
    "deepnote": {},
    "orig_nbformat": 2,
    "deepnote_notebook_id": "fafecebbb0c84a0e9feb8da62f4ef07f",
    "deepnote_persisted_session": {
      "createdAt": "2023-01-05T20:16:48.418Z"
    },
    "deepnote_execution_queue": [],
    "colab": {
      "provenance": [],
      "include_colab_link": true
    },
    "language_info": {
      "name": "python"
    },
    "kernelspec": {
      "name": "python3",
      "display_name": "Python 3"
    }
  }
}